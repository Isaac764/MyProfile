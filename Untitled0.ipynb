{
  "nbformat": 4,
  "nbformat_minor": 0,
  "metadata": {
    "colab": {
      "provenance": [],
      "authorship_tag": "ABX9TyO7EogO4WlzpNFReHVO2nxW",
      "include_colab_link": true
    },
    "kernelspec": {
      "name": "python3",
      "display_name": "Python 3"
    },
    "language_info": {
      "name": "python"
    }
  },
  "cells": [
    {
      "cell_type": "markdown",
      "metadata": {
        "id": "view-in-github",
        "colab_type": "text"
      },
      "source": [
        "<a href=\"https://colab.research.google.com/github/Isaac764/MyProfile/blob/main/Untitled0.ipynb\" target=\"_parent\"><img src=\"https://colab.research.google.com/assets/colab-badge.svg\" alt=\"Open In Colab\"/></a>"
      ]
    },
    {
      "cell_type": "code",
      "execution_count": 25,
      "metadata": {
        "colab": {
          "base_uri": "https://localhost:8080/"
        },
        "id": "8Wubv-1rXL19",
        "outputId": "25f62efd-d5fd-48b7-9a7d-49cdbfed1f8d"
      },
      "outputs": [
        {
          "output_type": "execute_result",
          "data": {
            "text/plain": [
              "{'Maringá': 403.063,\n",
              " 'Tabira': 120.904,\n",
              " 'Uberlândia': 699.097,\n",
              " 'Salvador': 2.886698,\n",
              " 'Vitória': 365.855}"
            ]
          },
          "metadata": {},
          "execution_count": 25
        }
      ],
      "source": [
        "cidades = ['Maringá', 'Tabira', 'Uberlândia', 'Salvador','Fortaleza']\n",
        "populacao =[403.063,120.904,699.097, 2.886698,2.686612]\n",
        "\n",
        "populacao_cidades =dict(zip(cidades,populacao))\n",
        "\n",
        "type(populacao_cidades)\n",
        "\n",
        "populacao_cidades['Uberlândia']\n",
        "\n",
        "'Maringá' in populacao_cidades\n",
        "\n",
        "populacao_cidades['Vitória'] = 365.855\n",
        "\n",
        "del populacao_cidades['Fortaleza']\n",
        "\n",
        "populacao_cidades"
      ]
    },
    {
      "cell_type": "code",
      "source": [],
      "metadata": {
        "id": "ZWdfMCmMdC52"
      },
      "execution_count": 21,
      "outputs": []
    },
    {
      "cell_type": "markdown",
      "source": [],
      "metadata": {
        "id": "2SJQrPwOdQ3-"
      }
    },
    {
      "cell_type": "markdown",
      "source": [],
      "metadata": {
        "id": "u3hS2pX4dCo_"
      }
    }
  ]
}